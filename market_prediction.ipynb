{
  "cells": [
    {
      "cell_type": "markdown",
      "source": [
        "В этом ноутбуке я обучаю обычную полносвязную сеть, также использую кроссвалидацию"
      ],
      "metadata": {
        "id": "_nH_jyiMrsxj"
      },
      "id": "_nH_jyiMrsxj"
    },
    {
      "cell_type": "code",
      "execution_count": null,
      "id": "5118efc3",
      "metadata": {
        "execution": {
          "iopub.execute_input": "2022-02-20T01:52:51.416962Z",
          "iopub.status.busy": "2022-02-20T01:52:51.414871Z",
          "iopub.status.idle": "2022-02-20T01:52:54.147075Z",
          "shell.execute_reply": "2022-02-20T01:52:54.145969Z",
          "shell.execute_reply.started": "2022-02-19T12:00:35.629427Z"
        },
        "papermill": {
          "duration": 2.824538,
          "end_time": "2022-02-20T01:52:54.147259",
          "exception": false,
          "start_time": "2022-02-20T01:52:51.322721",
          "status": "completed"
        },
        "tags": [],
        "id": "5118efc3"
      },
      "outputs": [],
      "source": [
        "import os\n",
        "import pandas as pd\n",
        "import numpy as np\n",
        "import gc\n",
        "\n",
        "import matplotlib.pyplot as plt\n",
        "from scipy import stats\n",
        "import torch\n",
        "\n",
        "import torchvision\n",
        "import torch.nn as nn\n",
        "\n",
        "import torch.nn.functional as F\n",
        "\n",
        "from torch.utils.data import DataLoader, TensorDataset, random_split"
      ]
    },
    {
      "cell_type": "code",
      "execution_count": null,
      "id": "a7aa986d",
      "metadata": {
        "execution": {
          "iopub.execute_input": "2022-02-20T01:52:54.374440Z",
          "iopub.status.busy": "2022-02-20T01:52:54.373353Z",
          "iopub.status.idle": "2022-02-20T01:52:54.377830Z",
          "shell.execute_reply": "2022-02-20T01:52:54.378373Z",
          "shell.execute_reply.started": "2022-02-19T12:00:37.849123Z"
        },
        "papermill": {
          "duration": 0.180554,
          "end_time": "2022-02-20T01:52:54.378575",
          "exception": false,
          "start_time": "2022-02-20T01:52:54.198021",
          "status": "completed"
        },
        "tags": [],
        "id": "a7aa986d",
        "outputId": "e18c5f4f-42b9-4a5e-a6ad-352adf47e023"
      },
      "outputs": [
        {
          "data": {
            "text/plain": [
              "21"
            ]
          },
          "execution_count": 2,
          "metadata": {},
          "output_type": "execute_result"
        }
      ],
      "source": [
        "gc.collect()"
      ]
    },
    {
      "cell_type": "code",
      "execution_count": null,
      "id": "777c349d",
      "metadata": {
        "execution": {
          "iopub.execute_input": "2022-02-20T01:52:54.487102Z",
          "iopub.status.busy": "2022-02-20T01:52:54.486374Z",
          "iopub.status.idle": "2022-02-20T01:52:54.503792Z",
          "shell.execute_reply": "2022-02-20T01:52:54.503140Z",
          "shell.execute_reply.started": "2022-02-19T12:00:37.963206Z"
        },
        "papermill": {
          "duration": 0.073547,
          "end_time": "2022-02-20T01:52:54.503941",
          "exception": false,
          "start_time": "2022-02-20T01:52:54.430394",
          "status": "completed"
        },
        "tags": [],
        "id": "777c349d",
        "outputId": "cb7482c9-3157-433d-ab08-c5dcfe91410a"
      },
      "outputs": [
        {
          "name": "stdout",
          "output_type": "stream",
          "text": [
            "/kaggle/input/ubiquant-market-prediction/example_sample_submission.csv\n",
            "/kaggle/input/ubiquant-market-prediction/example_test.csv\n",
            "/kaggle/input/ubiquant-market-prediction/train.csv\n",
            "/kaggle/input/ubiquant-market-prediction/ubiquant/competition.cpython-37m-x86_64-linux-gnu.so\n",
            "/kaggle/input/ubiquant-market-prediction/ubiquant/__init__.py\n",
            "/kaggle/input/ubiquant-market-prediction-half-precision-pickle/train.pkl\n"
          ]
        }
      ],
      "source": [
        "import os\n",
        "for dirname, _, filenames in os.walk('/kaggle/input'):\n",
        "    for filename in filenames:\n",
        "        print(os.path.join(dirname, filename))"
      ]
    },
    {
      "cell_type": "markdown",
      "id": "38809c13",
      "metadata": {
        "papermill": {
          "duration": 0.051684,
          "end_time": "2022-02-20T01:52:54.609097",
          "exception": false,
          "start_time": "2022-02-20T01:52:54.557413",
          "status": "completed"
        },
        "tags": [],
        "id": "38809c13"
      },
      "source": [
        "## Импортирум данные"
      ]
    },
    {
      "cell_type": "code",
      "execution_count": null,
      "id": "0181168f",
      "metadata": {
        "execution": {
          "iopub.execute_input": "2022-02-20T01:52:54.719947Z",
          "iopub.status.busy": "2022-02-20T01:52:54.719098Z",
          "iopub.status.idle": "2022-02-20T01:53:12.462828Z",
          "shell.execute_reply": "2022-02-20T01:53:12.463378Z",
          "shell.execute_reply.started": "2022-02-19T12:00:37.984115Z"
        },
        "papermill": {
          "duration": 17.802392,
          "end_time": "2022-02-20T01:53:12.463618",
          "exception": false,
          "start_time": "2022-02-20T01:52:54.661226",
          "status": "completed"
        },
        "tags": [],
        "id": "0181168f",
        "outputId": "468d7f09-7090-423a-f7f2-a42ed2deab44"
      },
      "outputs": [
        {
          "data": {
            "text/html": [
              "<div>\n",
              "<style scoped>\n",
              "    .dataframe tbody tr th:only-of-type {\n",
              "        vertical-align: middle;\n",
              "    }\n",
              "\n",
              "    .dataframe tbody tr th {\n",
              "        vertical-align: top;\n",
              "    }\n",
              "\n",
              "    .dataframe thead th {\n",
              "        text-align: right;\n",
              "    }\n",
              "</style>\n",
              "<table border=\"1\" class=\"dataframe\">\n",
              "  <thead>\n",
              "    <tr style=\"text-align: right;\">\n",
              "      <th></th>\n",
              "      <th>investment_id</th>\n",
              "      <th>time_id</th>\n",
              "      <th>f_0</th>\n",
              "      <th>f_1</th>\n",
              "      <th>f_2</th>\n",
              "      <th>f_3</th>\n",
              "      <th>f_4</th>\n",
              "      <th>f_5</th>\n",
              "      <th>f_6</th>\n",
              "      <th>f_7</th>\n",
              "      <th>...</th>\n",
              "      <th>f_291</th>\n",
              "      <th>f_292</th>\n",
              "      <th>f_293</th>\n",
              "      <th>f_294</th>\n",
              "      <th>f_295</th>\n",
              "      <th>f_296</th>\n",
              "      <th>f_297</th>\n",
              "      <th>f_298</th>\n",
              "      <th>f_299</th>\n",
              "      <th>target</th>\n",
              "    </tr>\n",
              "  </thead>\n",
              "  <tbody>\n",
              "    <tr>\n",
              "      <th>0</th>\n",
              "      <td>1</td>\n",
              "      <td>0</td>\n",
              "      <td>0.932617</td>\n",
              "      <td>0.113708</td>\n",
              "      <td>-0.402100</td>\n",
              "      <td>0.378418</td>\n",
              "      <td>-0.203979</td>\n",
              "      <td>-0.413574</td>\n",
              "      <td>0.965820</td>\n",
              "      <td>1.230469</td>\n",
              "      <td>...</td>\n",
              "      <td>-1.095703</td>\n",
              "      <td>0.200073</td>\n",
              "      <td>0.819336</td>\n",
              "      <td>0.941406</td>\n",
              "      <td>-0.086792</td>\n",
              "      <td>-1.086914</td>\n",
              "      <td>-1.044922</td>\n",
              "      <td>-0.287598</td>\n",
              "      <td>0.321533</td>\n",
              "      <td>-0.300781</td>\n",
              "    </tr>\n",
              "    <tr>\n",
              "      <th>1</th>\n",
              "      <td>2</td>\n",
              "      <td>0</td>\n",
              "      <td>0.811035</td>\n",
              "      <td>-0.514160</td>\n",
              "      <td>0.742188</td>\n",
              "      <td>-0.616699</td>\n",
              "      <td>-0.194214</td>\n",
              "      <td>1.771484</td>\n",
              "      <td>1.427734</td>\n",
              "      <td>1.133789</td>\n",
              "      <td>...</td>\n",
              "      <td>0.912598</td>\n",
              "      <td>-0.734375</td>\n",
              "      <td>0.819336</td>\n",
              "      <td>0.941406</td>\n",
              "      <td>-0.387695</td>\n",
              "      <td>-1.086914</td>\n",
              "      <td>-0.929688</td>\n",
              "      <td>-0.974121</td>\n",
              "      <td>-0.343506</td>\n",
              "      <td>-0.231079</td>\n",
              "    </tr>\n",
              "  </tbody>\n",
              "</table>\n",
              "<p>2 rows × 303 columns</p>\n",
              "</div>"
            ],
            "text/plain": [
              "   investment_id  time_id       f_0       f_1       f_2       f_3       f_4  \\\n",
              "0              1        0  0.932617  0.113708 -0.402100  0.378418 -0.203979   \n",
              "1              2        0  0.811035 -0.514160  0.742188 -0.616699 -0.194214   \n",
              "\n",
              "        f_5       f_6       f_7  ...     f_291     f_292     f_293     f_294  \\\n",
              "0 -0.413574  0.965820  1.230469  ... -1.095703  0.200073  0.819336  0.941406   \n",
              "1  1.771484  1.427734  1.133789  ...  0.912598 -0.734375  0.819336  0.941406   \n",
              "\n",
              "      f_295     f_296     f_297     f_298     f_299    target  \n",
              "0 -0.086792 -1.086914 -1.044922 -0.287598  0.321533 -0.300781  \n",
              "1 -0.387695 -1.086914 -0.929688 -0.974121 -0.343506 -0.231079  \n",
              "\n",
              "[2 rows x 303 columns]"
            ]
          },
          "execution_count": 4,
          "metadata": {},
          "output_type": "execute_result"
        }
      ],
      "source": [
        "n_features = 300\n",
        "features = [f'f_{i}' for i in range(n_features)]\n",
        "train = pd.read_pickle('../input/ubiquant-market-prediction-half-precision-pickle/train.pkl')\n",
        "train.head(2)"
      ]
    },
    {
      "cell_type": "code",
      "execution_count": null,
      "id": "1cfd5317",
      "metadata": {
        "execution": {
          "iopub.execute_input": "2022-02-20T01:53:12.580934Z",
          "iopub.status.busy": "2022-02-20T01:53:12.579456Z",
          "iopub.status.idle": "2022-02-20T01:53:21.425301Z",
          "shell.execute_reply": "2022-02-20T01:53:21.424404Z",
          "shell.execute_reply.started": "2022-02-19T12:00:55.004565Z"
        },
        "papermill": {
          "duration": 8.909507,
          "end_time": "2022-02-20T01:53:21.425502",
          "exception": false,
          "start_time": "2022-02-20T01:53:12.515995",
          "status": "completed"
        },
        "tags": [],
        "id": "1cfd5317",
        "outputId": "57cc2dd4-5ad5-4e25-f2be-bb9c3b87e13c"
      },
      "outputs": [
        {
          "data": {
            "text/plain": [
              "((3141410, 302), (3141410, 1))"
            ]
          },
          "execution_count": 5,
          "metadata": {},
          "output_type": "execute_result"
        }
      ],
      "source": [
        "inputs = train.drop(['target'], axis=1).values\n",
        "targets = train[['target']].values\n",
        "\n",
        "inputs.shape, targets.shape"
      ]
    },
    {
      "cell_type": "code",
      "execution_count": null,
      "id": "59f04e08",
      "metadata": {
        "execution": {
          "iopub.execute_input": "2022-02-20T01:53:21.643938Z",
          "iopub.status.busy": "2022-02-20T01:53:21.642992Z",
          "iopub.status.idle": "2022-02-20T01:53:21.646625Z",
          "shell.execute_reply": "2022-02-20T01:53:21.647184Z",
          "shell.execute_reply.started": "2022-02-19T12:01:02.575604Z"
        },
        "papermill": {
          "duration": 0.063198,
          "end_time": "2022-02-20T01:53:21.647340",
          "exception": false,
          "start_time": "2022-02-20T01:53:21.584142",
          "status": "completed"
        },
        "tags": [],
        "id": "59f04e08",
        "outputId": "313d2066-738b-4394-85e8-65a60a145ffa"
      },
      "outputs": [
        {
          "data": {
            "text/plain": [
              "(2513128, 628282)"
            ]
          },
          "execution_count": 6,
          "metadata": {},
          "output_type": "execute_result"
        }
      ],
      "source": [
        "val_1 = int(0.8*inputs.shape[0])\n",
        "val_2 = int(0.2*inputs.shape[0])\n",
        "val_1, val_2"
      ]
    },
    {
      "cell_type": "markdown",
      "id": "6718ab98",
      "metadata": {
        "execution": {
          "iopub.execute_input": "2022-02-12T07:05:50.030959Z",
          "iopub.status.busy": "2022-02-12T07:05:50.030025Z",
          "iopub.status.idle": "2022-02-12T07:05:50.04492Z",
          "shell.execute_reply": "2022-02-12T07:05:50.043616Z",
          "shell.execute_reply.started": "2022-02-12T07:05:50.030913Z"
        },
        "papermill": {
          "duration": 0.054056,
          "end_time": "2022-02-20T01:53:21.754584",
          "exception": false,
          "start_time": "2022-02-20T01:53:21.700528",
          "status": "completed"
        },
        "tags": [],
        "id": "6718ab98"
      },
      "source": [
        "### Гиперпараметры"
      ]
    },
    {
      "cell_type": "code",
      "execution_count": null,
      "id": "5afb8c5a",
      "metadata": {
        "execution": {
          "iopub.execute_input": "2022-02-20T01:53:21.868236Z",
          "iopub.status.busy": "2022-02-20T01:53:21.865937Z",
          "iopub.status.idle": "2022-02-20T01:53:21.869033Z",
          "shell.execute_reply": "2022-02-20T01:53:21.869615Z",
          "shell.execute_reply.started": "2022-02-19T12:01:02.585016Z"
        },
        "papermill": {
          "duration": 0.062732,
          "end_time": "2022-02-20T01:53:21.869780",
          "exception": false,
          "start_time": "2022-02-20T01:53:21.807048",
          "status": "completed"
        },
        "tags": [],
        "id": "5afb8c5a"
      },
      "outputs": [],
      "source": [
        "batch_size = 2000\n",
        "TARGET_COLUMN = 'target'\n",
        "input_size=302\n",
        "output_size=1"
      ]
    },
    {
      "cell_type": "code",
      "execution_count": null,
      "id": "113799da",
      "metadata": {
        "execution": {
          "iopub.execute_input": "2022-02-20T01:53:22.102112Z",
          "iopub.status.busy": "2022-02-20T01:53:22.101187Z",
          "iopub.status.idle": "2022-02-20T01:53:22.104853Z",
          "shell.execute_reply": "2022-02-20T01:53:22.105411Z",
          "shell.execute_reply.started": "2022-02-19T12:01:02.592655Z"
        },
        "papermill": {
          "duration": 0.182685,
          "end_time": "2022-02-20T01:53:22.105611",
          "exception": false,
          "start_time": "2022-02-20T01:53:21.922926",
          "status": "completed"
        },
        "tags": [],
        "id": "113799da",
        "outputId": "66c3e169-bf45-447d-923e-8fc444ffea4b"
      },
      "outputs": [
        {
          "data": {
            "text/plain": [
              "63"
            ]
          },
          "execution_count": 8,
          "metadata": {},
          "output_type": "execute_result"
        }
      ],
      "source": [
        "del train\n",
        "gc.collect()"
      ]
    },
    {
      "cell_type": "markdown",
      "id": "32757c59",
      "metadata": {
        "execution": {
          "iopub.execute_input": "2022-02-12T07:05:50.048467Z",
          "iopub.status.busy": "2022-02-12T07:05:50.046326Z",
          "iopub.status.idle": "2022-02-12T07:05:53.061696Z",
          "shell.execute_reply": "2022-02-12T07:05:53.060279Z",
          "shell.execute_reply.started": "2022-02-12T07:05:50.048424Z"
        },
        "papermill": {
          "duration": 0.05331,
          "end_time": "2022-02-20T01:53:22.213780",
          "exception": false,
          "start_time": "2022-02-20T01:53:22.160470",
          "status": "completed"
        },
        "tags": [],
        "id": "32757c59"
      },
      "source": [
        "# Кастомный датасет прописывать не стал"
      ]
    },
    {
      "cell_type": "code",
      "execution_count": null,
      "id": "da7e9a5f",
      "metadata": {
        "execution": {
          "iopub.execute_input": "2022-02-20T01:53:22.333218Z",
          "iopub.status.busy": "2022-02-20T01:53:22.332527Z",
          "iopub.status.idle": "2022-02-20T01:53:25.355222Z",
          "shell.execute_reply": "2022-02-20T01:53:25.354334Z",
          "shell.execute_reply.started": "2022-02-19T12:01:02.712357Z"
        },
        "papermill": {
          "duration": 3.086923,
          "end_time": "2022-02-20T01:53:25.355381",
          "exception": false,
          "start_time": "2022-02-20T01:53:22.268458",
          "status": "completed"
        },
        "tags": [],
        "id": "da7e9a5f"
      },
      "outputs": [],
      "source": [
        "dataset = TensorDataset(torch.tensor(inputs, dtype=torch.float32), torch.tensor(targets, dtype=torch.float32))\n",
        "train_ds, val_ds = random_split(dataset, [val_1, val_2])\n",
        "\n",
        "train_loader = DataLoader(train_ds, batch_size, shuffle=False)\n",
        "val_loader = DataLoader(val_ds, batch_size*2)"
      ]
    },
    {
      "cell_type": "code",
      "execution_count": null,
      "id": "354de276",
      "metadata": {
        "execution": {
          "iopub.execute_input": "2022-02-20T01:53:25.510619Z",
          "iopub.status.busy": "2022-02-20T01:53:25.509362Z",
          "iopub.status.idle": "2022-02-20T01:53:25.659045Z",
          "shell.execute_reply": "2022-02-20T01:53:25.658333Z",
          "shell.execute_reply.started": "2022-02-19T12:01:05.378874Z"
        },
        "papermill": {
          "duration": 0.248672,
          "end_time": "2022-02-20T01:53:25.659225",
          "exception": false,
          "start_time": "2022-02-20T01:53:25.410553",
          "status": "completed"
        },
        "tags": [],
        "id": "354de276",
        "outputId": "aa7220eb-b7e6-417f-d058-58b8263487da"
      },
      "outputs": [
        {
          "data": {
            "text/plain": [
              "42"
            ]
          },
          "execution_count": 10,
          "metadata": {},
          "output_type": "execute_result"
        }
      ],
      "source": [
        "del train_ds, val_ds, dataset, inputs, targets\n",
        "gc.collect()"
      ]
    },
    {
      "cell_type": "markdown",
      "id": "176ed8d7",
      "metadata": {
        "papermill": {
          "duration": 0.054044,
          "end_time": "2022-02-20T01:53:25.766992",
          "exception": false,
          "start_time": "2022-02-20T01:53:25.712948",
          "status": "completed"
        },
        "tags": [],
        "id": "176ed8d7"
      },
      "source": [
        "## Перенос данных на ГПУ"
      ]
    },
    {
      "cell_type": "code",
      "execution_count": null,
      "id": "8edda8db",
      "metadata": {
        "execution": {
          "iopub.execute_input": "2022-02-20T01:53:25.885375Z",
          "iopub.status.busy": "2022-02-20T01:53:25.884284Z",
          "iopub.status.idle": "2022-02-20T01:53:25.886712Z",
          "shell.execute_reply": "2022-02-20T01:53:25.887263Z",
          "shell.execute_reply.started": "2022-02-19T12:01:05.567626Z"
        },
        "papermill": {
          "duration": 0.067137,
          "end_time": "2022-02-20T01:53:25.887418",
          "exception": false,
          "start_time": "2022-02-20T01:53:25.820281",
          "status": "completed"
        },
        "tags": [],
        "id": "8edda8db"
      },
      "outputs": [],
      "source": [
        "def get_default_device():\n",
        "    if torch.cuda.is_available():\n",
        "        return torch.device('cuda')\n",
        "    else:\n",
        "        return torch.device('cpu')\n",
        "    \n",
        "def to_device(data, device):\n",
        "    if isinstance(data, (list,tuple)):\n",
        "        return [to_device(x, device) for x in data]\n",
        "    return data.to(device, non_blocking=True)\n",
        "\n",
        "class DeviceDataLoader():\n",
        "    def __init__(self, dl, device):\n",
        "        self.dl = dl\n",
        "        self.device = device\n",
        "        \n",
        "    def __iter__(self):\n",
        "        for b in self.dl: \n",
        "            yield to_device(b, self.device)\n",
        "\n",
        "    def __len__(self):\n",
        "        return len(self.dl)"
      ]
    },
    {
      "cell_type": "code",
      "execution_count": null,
      "id": "d63756b1",
      "metadata": {
        "execution": {
          "iopub.execute_input": "2022-02-20T01:53:26.287557Z",
          "iopub.status.busy": "2022-02-20T01:53:26.286581Z",
          "iopub.status.idle": "2022-02-20T01:53:26.290211Z",
          "shell.execute_reply": "2022-02-20T01:53:26.290770Z",
          "shell.execute_reply.started": "2022-02-19T12:01:05.63394Z"
        },
        "papermill": {
          "duration": 0.063778,
          "end_time": "2022-02-20T01:53:26.290937",
          "exception": false,
          "start_time": "2022-02-20T01:53:26.227159",
          "status": "completed"
        },
        "tags": [],
        "id": "d63756b1",
        "outputId": "e9ef1a10-fe06-460c-de5d-5c20ece3af43"
      },
      "outputs": [
        {
          "data": {
            "text/plain": [
              "device(type='cuda')"
            ]
          },
          "execution_count": 13,
          "metadata": {},
          "output_type": "execute_result"
        }
      ],
      "source": [
        "device = get_default_device()\n",
        "device"
      ]
    },
    {
      "cell_type": "code",
      "execution_count": null,
      "id": "06c0452a",
      "metadata": {
        "execution": {
          "iopub.execute_input": "2022-02-20T01:53:26.521083Z",
          "iopub.status.busy": "2022-02-20T01:53:26.520039Z",
          "iopub.status.idle": "2022-02-20T01:53:26.523280Z",
          "shell.execute_reply": "2022-02-20T01:53:26.522716Z",
          "shell.execute_reply.started": "2022-02-19T12:01:05.644037Z"
        },
        "papermill": {
          "duration": 0.069388,
          "end_time": "2022-02-20T01:53:26.523439",
          "exception": false,
          "start_time": "2022-02-20T01:53:26.454051",
          "status": "completed"
        },
        "tags": [],
        "id": "06c0452a"
      },
      "outputs": [],
      "source": [
        "train_loader = DeviceDataLoader(train_loader, device)\n",
        "val_loader = DeviceDataLoader(train_loader, device)"
      ]
    },
    {
      "cell_type": "markdown",
      "id": "1ad38070",
      "metadata": {
        "papermill": {
          "duration": 0.054468,
          "end_time": "2022-02-20T01:53:26.740869",
          "exception": false,
          "start_time": "2022-02-20T01:53:26.686401",
          "status": "completed"
        },
        "tags": [],
        "id": "1ad38070"
      },
      "source": [
        "# Создание модели"
      ]
    },
    {
      "cell_type": "code",
      "execution_count": null,
      "id": "485620a9",
      "metadata": {
        "execution": {
          "iopub.execute_input": "2022-02-20T01:53:26.871994Z",
          "iopub.status.busy": "2022-02-20T01:53:26.871122Z",
          "iopub.status.idle": "2022-02-20T01:53:26.894027Z",
          "shell.execute_reply": "2022-02-20T01:53:26.894576Z",
          "shell.execute_reply.started": "2022-02-19T12:01:05.657576Z"
        },
        "papermill": {
          "duration": 0.099019,
          "end_time": "2022-02-20T01:53:26.894802",
          "exception": false,
          "start_time": "2022-02-20T01:53:26.795783",
          "status": "completed"
        },
        "tags": [],
        "id": "485620a9"
      },
      "outputs": [],
      "source": [
        "class Model(nn.Module):\n",
        "    def __init__(self):\n",
        "        super().__init__()\n",
        "        self.layers = nn.Sequential(nn.Linear(input_size, 64), \n",
        "                                    nn.BatchNorm1d(64), \n",
        "                                    nn.SiLU(), \n",
        "                                    \n",
        "                                    nn.Linear(64, 128), \n",
        "                                    nn.BatchNorm1d(128),  \n",
        "                                    nn.SiLU(),\n",
        "                                    nn.Dropout(0.4),\n",
        "                                    \n",
        "                                    nn.Linear(128, 256), \n",
        "                                    nn.BatchNorm1d(256), \n",
        "                                    nn.SiLU(), \n",
        "                                    nn.Dropout(0.4),\n",
        "                                    \n",
        "                                    nn.Linear(256, 512), \n",
        "                                    nn.BatchNorm1d(512), \n",
        "                                    nn.SiLU(),\n",
        "                                    nn.Dropout(0.4), \n",
        "                                    \n",
        "                                    nn.Linear(512, 256), \n",
        "                                    nn.BatchNorm1d(256), \n",
        "                                    nn.SiLU(),\n",
        "                                    nn.Dropout(0.4),\n",
        "                                    \n",
        "                                    nn.Linear(256, 128), \n",
        "                                    nn.BatchNorm1d(128), \n",
        "                                    nn.SiLU(),\n",
        "                                    nn.Dropout(0.4),\n",
        "                                    \n",
        "                                    nn.Linear(128, 8), \n",
        "                                    nn.BatchNorm1d(8), \n",
        "                                    nn.SiLU(), \n",
        "                                    nn.Dropout(0.4),\n",
        "                                    \n",
        "                                    nn.Linear(8, 1) )\n",
        "    \n",
        "        \n",
        "    def forward(self, x):\n",
        "        return self.layers(x)\n",
        "    \n",
        "    def training_step(self, batch):\n",
        "        torch.cuda.empty_cache()\n",
        "        gc.collect()\n",
        "        inputs, targets = batch \n",
        "        inputs.to(device)\n",
        "        targets.to(device)\n",
        "        \n",
        "        out = self(inputs)                 \n",
        "        loss = F.mse_loss(out, targets)   \n",
        "        return loss\n",
        "    \n",
        "    def validation_step(self, batch):\n",
        "        torch.cuda.empty_cache()\n",
        "        gc.collect()\n",
        "        inputs, targets = batch \n",
        "        inputs.to(device)\n",
        "        targets.to(device)\n",
        "        \n",
        "        out = self(inputs)                 \n",
        "        loss = F.mse_loss(out, targets)    \n",
        "        return {'val_loss': loss.detach()}\n",
        "        \n",
        "    def validation_epoch_end(self, outputs):\n",
        "        batch_losses = [x['val_loss'] for x in outputs]\n",
        "        epoch_loss = torch.stack(batch_losses).mean()  \n",
        "        return {'val_loss': epoch_loss.item()}\n",
        "    \n",
        "    def epoch_end(self, epoch, result):\n",
        "        print(\"Epoch [{}], train_loss: {:.4f}, val_loss: {:.4f}\".format(epoch, result['train_loss'], result['val_loss']))\n",
        "    \n",
        "model = Model()"
      ]
    },
    {
      "cell_type": "code",
      "execution_count": null,
      "id": "88bc5a99",
      "metadata": {
        "execution": {
          "iopub.execute_input": "2022-02-20T01:53:27.012740Z",
          "iopub.status.busy": "2022-02-20T01:53:27.012012Z",
          "iopub.status.idle": "2022-02-20T01:53:30.250859Z",
          "shell.execute_reply": "2022-02-20T01:53:30.250272Z",
          "shell.execute_reply.started": "2022-02-19T12:01:05.69733Z"
        },
        "papermill": {
          "duration": 3.30123,
          "end_time": "2022-02-20T01:53:30.251018",
          "exception": false,
          "start_time": "2022-02-20T01:53:26.949788",
          "status": "completed"
        },
        "tags": [],
        "id": "88bc5a99"
      },
      "outputs": [],
      "source": [
        "model = to_device(model, device)"
      ]
    },
    {
      "cell_type": "markdown",
      "id": "cdc5ca25",
      "metadata": {
        "papermill": {
          "duration": 0.054385,
          "end_time": "2022-02-20T01:53:30.360394",
          "exception": false,
          "start_time": "2022-02-20T01:53:30.306009",
          "status": "completed"
        },
        "tags": [],
        "id": "cdc5ca25"
      },
      "source": [
        "### Обучение"
      ]
    },
    {
      "cell_type": "code",
      "execution_count": null,
      "id": "8fde23ec",
      "metadata": {
        "execution": {
          "iopub.execute_input": "2022-02-20T01:53:30.481683Z",
          "iopub.status.busy": "2022-02-20T01:53:30.480638Z",
          "iopub.status.idle": "2022-02-20T01:53:30.483347Z",
          "shell.execute_reply": "2022-02-20T01:53:30.483884Z",
          "shell.execute_reply.started": "2022-02-19T12:01:08.547435Z"
        },
        "papermill": {
          "duration": 0.068071,
          "end_time": "2022-02-20T01:53:30.484052",
          "exception": false,
          "start_time": "2022-02-20T01:53:30.415981",
          "status": "completed"
        },
        "tags": [],
        "id": "8fde23ec"
      },
      "outputs": [],
      "source": [
        "def evaluate(model, val_loader):\n",
        "    model.eval()  \n",
        "    outputs = [model.validation_step(batch) for batch in val_loader]\n",
        "    return model.validation_epoch_end(outputs)\n",
        "\n",
        "def fit(epochs, lr, model, train_loader, val_loader, opt_func=torch.optim.SGD):\n",
        "    history = []\n",
        "    optimizer = opt_func(model.parameters(), lr)\n",
        "    for epoch in range(epochs): \n",
        "        model.train() \n",
        "        train_losses = []\n",
        "        \n",
        "        for (i,batch) in enumerate(train_loader):\n",
        "            torch.cuda.empty_cache()\n",
        "            loss = model.training_step(batch)\n",
        "            train_losses.append(loss)\n",
        "            loss.backward()\n",
        "            optimizer.step()\n",
        "            optimizer.zero_grad()\n",
        "            if (i%200 == 0): print('batch number -- ', i)\n",
        "            \n",
        "        result = evaluate(model, val_loader)\n",
        "        result['train_loss'] = torch.stack(train_losses).mean().item()\n",
        "        model.epoch_end(epoch, result)\n",
        "        history.append(result)\n",
        "        \n",
        "            \n",
        "    return history"
      ]
    },
    {
      "cell_type": "code",
      "execution_count": null,
      "id": "3a6e4be6",
      "metadata": {
        "execution": {
          "iopub.execute_input": "2022-02-20T01:53:30.707853Z",
          "iopub.status.busy": "2022-02-20T01:53:30.706911Z",
          "iopub.status.idle": "2022-02-20T01:53:30.710439Z",
          "shell.execute_reply": "2022-02-20T01:53:30.711024Z",
          "shell.execute_reply.started": "2022-02-19T12:01:08.558598Z"
        },
        "papermill": {
          "duration": 0.063483,
          "end_time": "2022-02-20T01:53:30.711201",
          "exception": false,
          "start_time": "2022-02-20T01:53:30.647718",
          "status": "completed"
        },
        "tags": [],
        "id": "3a6e4be6",
        "outputId": "24f1180c-cc55-4422-d679-808d9c5d4334"
      },
      "outputs": [
        {
          "data": {
            "text/plain": [
              "(device(type='cuda'), device(type='cuda'))"
            ]
          },
          "execution_count": 18,
          "metadata": {},
          "output_type": "execute_result"
        }
      ],
      "source": [
        "train_loader.device, val_loader.device"
      ]
    },
    {
      "cell_type": "code",
      "execution_count": null,
      "id": "b6df6b88",
      "metadata": {
        "execution": {
          "iopub.execute_input": "2022-02-20T01:53:30.947321Z",
          "iopub.status.busy": "2022-02-20T01:53:30.946525Z",
          "iopub.status.idle": "2022-02-20T01:53:31.030861Z",
          "shell.execute_reply": "2022-02-20T01:53:31.030199Z",
          "shell.execute_reply.started": "2022-02-19T12:01:08.580786Z"
        },
        "papermill": {
          "duration": 0.144626,
          "end_time": "2022-02-20T01:53:31.031023",
          "exception": false,
          "start_time": "2022-02-20T01:53:30.886397",
          "status": "completed"
        },
        "tags": [],
        "id": "b6df6b88",
        "outputId": "ba684baa-baa4-44cf-a22a-266357f8097c"
      },
      "outputs": [
        {
          "data": {
            "text/plain": [
              "tensor([[-0.0450, -0.0543,  0.0315,  ..., -0.0190, -0.0150,  0.0005],\n",
              "        [ 0.0494,  0.0416, -0.0041,  ..., -0.0243, -0.0446, -0.0407],\n",
              "        [-0.0487, -0.0179,  0.0028,  ..., -0.0072,  0.0504, -0.0491],\n",
              "        ...,\n",
              "        [-0.0339,  0.0208, -0.0226,  ...,  0.0098,  0.0115, -0.0399],\n",
              "        [ 0.0134,  0.0431, -0.0346,  ..., -0.0427,  0.0519,  0.0390],\n",
              "        [-0.0512,  0.0464,  0.0565,  ..., -0.0246, -0.0021, -0.0568]],\n",
              "       device='cuda:0')"
            ]
          },
          "execution_count": 20,
          "metadata": {},
          "output_type": "execute_result"
        }
      ],
      "source": [
        "model.state_dict()['layers.0.weight']"
      ]
    },
    {
      "cell_type": "code",
      "execution_count": null,
      "id": "c472cc53",
      "metadata": {
        "execution": {
          "iopub.execute_input": "2022-02-20T01:53:31.375985Z",
          "iopub.status.busy": "2022-02-20T01:53:31.374776Z",
          "iopub.status.idle": "2022-02-20T01:53:31.377400Z",
          "shell.execute_reply": "2022-02-20T01:53:31.378008Z",
          "shell.execute_reply.started": "2022-02-19T12:01:08.667904Z"
        },
        "papermill": {
          "duration": 0.06437,
          "end_time": "2022-02-20T01:53:31.378166",
          "exception": false,
          "start_time": "2022-02-20T01:53:31.313796",
          "status": "completed"
        },
        "tags": [],
        "id": "c472cc53"
      },
      "outputs": [],
      "source": [
        "learning_rate = 1e-1"
      ]
    },
    {
      "cell_type": "code",
      "execution_count": null,
      "id": "d49c316b",
      "metadata": {
        "execution": {
          "iopub.execute_input": "2022-02-20T01:53:31.629917Z",
          "iopub.status.busy": "2022-02-20T01:53:31.628840Z",
          "iopub.status.idle": "2022-02-20T01:53:31.632534Z",
          "shell.execute_reply": "2022-02-20T01:53:31.633164Z",
          "shell.execute_reply.started": "2022-02-19T12:01:08.673832Z"
        },
        "papermill": {
          "duration": 0.19846,
          "end_time": "2022-02-20T01:53:31.633387",
          "exception": false,
          "start_time": "2022-02-20T01:53:31.434927",
          "status": "completed"
        },
        "tags": [],
        "id": "d49c316b",
        "outputId": "2f72d3df-1894-4d45-c7fd-712d4f082189"
      },
      "outputs": [
        {
          "data": {
            "text/plain": [
              "147"
            ]
          },
          "execution_count": 22,
          "metadata": {},
          "output_type": "execute_result"
        }
      ],
      "source": [
        "gc.collect()"
      ]
    },
    {
      "cell_type": "code",
      "execution_count": null,
      "id": "b0422d54",
      "metadata": {
        "execution": {
          "iopub.execute_input": "2022-02-20T01:53:31.752829Z",
          "iopub.status.busy": "2022-02-20T01:53:31.751995Z",
          "iopub.status.idle": "2022-02-20T03:10:28.280183Z",
          "shell.execute_reply": "2022-02-20T03:10:28.280739Z",
          "shell.execute_reply.started": "2022-02-19T12:01:08.813233Z"
        },
        "papermill": {
          "duration": 4616.590044,
          "end_time": "2022-02-20T03:10:28.280910",
          "exception": false,
          "start_time": "2022-02-20T01:53:31.690866",
          "status": "completed"
        },
        "tags": [],
        "id": "b0422d54",
        "outputId": "7a88a537-ddc6-4dfb-e94e-a67104f13062"
      },
      "outputs": [
        {
          "name": "stdout",
          "output_type": "stream",
          "text": [
            "batch number --  0\n",
            "batch number --  200\n",
            "batch number --  400\n",
            "batch number --  600\n",
            "batch number --  800\n",
            "batch number --  1000\n",
            "batch number --  1200\n",
            "Epoch [0], train_loss: 0.8441, val_loss: 0.8521\n",
            "batch number --  0\n",
            "batch number --  200\n",
            "batch number --  400\n",
            "batch number --  600\n",
            "batch number --  800\n",
            "batch number --  1000\n",
            "batch number --  1200\n",
            "Epoch [1], train_loss: 0.8361, val_loss: 0.8391\n",
            "batch number --  0\n",
            "batch number --  200\n",
            "batch number --  400\n",
            "batch number --  600\n",
            "batch number --  800\n",
            "batch number --  1000\n",
            "batch number --  1200\n",
            "Epoch [2], train_loss: 0.8349, val_loss: 0.8434\n",
            "batch number --  0\n",
            "batch number --  200\n",
            "batch number --  400\n",
            "batch number --  600\n",
            "batch number --  800\n",
            "batch number --  1000\n",
            "batch number --  1200\n",
            "Epoch [3], train_loss: 0.8346, val_loss: 0.8323\n",
            "batch number --  0\n",
            "batch number --  200\n",
            "batch number --  400\n",
            "batch number --  600\n",
            "batch number --  800\n",
            "batch number --  1000\n",
            "batch number --  1200\n",
            "Epoch [4], train_loss: 0.8343, val_loss: 0.8360\n",
            "batch number --  0\n",
            "batch number --  200\n",
            "batch number --  400\n",
            "batch number --  600\n",
            "batch number --  800\n",
            "batch number --  1000\n",
            "batch number --  1200\n",
            "Epoch [5], train_loss: 0.8336, val_loss: 0.8320\n",
            "batch number --  0\n",
            "batch number --  200\n",
            "batch number --  400\n",
            "batch number --  600\n",
            "batch number --  800\n",
            "batch number --  1000\n",
            "batch number --  1200\n",
            "Epoch [6], train_loss: 0.8338, val_loss: 0.8304\n",
            "batch number --  0\n",
            "batch number --  200\n",
            "batch number --  400\n",
            "batch number --  600\n",
            "batch number --  800\n",
            "batch number --  1000\n",
            "batch number --  1200\n",
            "Epoch [7], train_loss: 0.8334, val_loss: 0.8380\n",
            "batch number --  0\n",
            "batch number --  200\n",
            "batch number --  400\n",
            "batch number --  600\n",
            "batch number --  800\n",
            "batch number --  1000\n",
            "batch number --  1200\n",
            "Epoch [8], train_loss: 0.8329, val_loss: 0.8299\n",
            "batch number --  0\n",
            "batch number --  200\n",
            "batch number --  400\n",
            "batch number --  600\n",
            "batch number --  800\n",
            "batch number --  1000\n",
            "batch number --  1200\n",
            "Epoch [9], train_loss: 0.8324, val_loss: 0.8339\n"
          ]
        }
      ],
      "source": [
        "history = fit(10, learning_rate, model, train_loader, val_loader, opt_func=torch.optim.Adam)"
      ]
    },
    {
      "cell_type": "code",
      "execution_count": null,
      "id": "59ea4fd5",
      "metadata": {
        "execution": {
          "iopub.execute_input": "2022-02-20T03:10:28.438747Z",
          "iopub.status.busy": "2022-02-20T03:10:28.437960Z",
          "iopub.status.idle": "2022-02-20T03:10:28.441108Z",
          "shell.execute_reply": "2022-02-20T03:10:28.441592Z",
          "shell.execute_reply.started": "2022-02-19T12:22:31.763536Z"
        },
        "papermill": {
          "duration": 0.086256,
          "end_time": "2022-02-20T03:10:28.441761",
          "exception": false,
          "start_time": "2022-02-20T03:10:28.355505",
          "status": "completed"
        },
        "tags": [],
        "id": "59ea4fd5",
        "outputId": "655e7668-2d4d-4238-822a-a6c2a9dafea2"
      },
      "outputs": [
        {
          "data": {
            "text/plain": [
              "[{'val_loss': 0.8521440029144287, 'train_loss': 0.8441387414932251},\n",
              " {'val_loss': 0.8390878438949585, 'train_loss': 0.8361467719078064},\n",
              " {'val_loss': 0.8434250354766846, 'train_loss': 0.8349288702011108},\n",
              " {'val_loss': 0.8322630524635315, 'train_loss': 0.8345692753791809},\n",
              " {'val_loss': 0.8360334634780884, 'train_loss': 0.8343096971511841},\n",
              " {'val_loss': 0.8320338726043701, 'train_loss': 0.8336008787155151},\n",
              " {'val_loss': 0.8304229378700256, 'train_loss': 0.8337907195091248},\n",
              " {'val_loss': 0.837978184223175, 'train_loss': 0.8333766460418701},\n",
              " {'val_loss': 0.8299148678779602, 'train_loss': 0.832933247089386},\n",
              " {'val_loss': 0.8339259028434753, 'train_loss': 0.8323901891708374}]"
            ]
          },
          "execution_count": 24,
          "metadata": {},
          "output_type": "execute_result"
        }
      ],
      "source": [
        "def plot_losses(history):\n",
        "    train_losses = [x.get('train_loss') for x in history]\n",
        "    val_losses = [x['val_loss'] for x in history]\n",
        "    plt.plot(train_losses, '-bx')\n",
        "    plt.plot(val_losses, '-rx')\n",
        "    plt.xlabel('epoch')\n",
        "    plt.ylabel('loss')\n",
        "    plt.legend(['Training', 'Validation'])\n",
        "    plt.title('Loss vs. No. of epochs');\n",
        "history"
      ]
    },
    {
      "cell_type": "code",
      "execution_count": null,
      "id": "b02a89ec",
      "metadata": {
        "execution": {
          "iopub.execute_input": "2022-02-20T03:10:28.747368Z",
          "iopub.status.busy": "2022-02-20T03:10:28.746328Z",
          "iopub.status.idle": "2022-02-20T04:27:34.979814Z",
          "shell.execute_reply": "2022-02-20T04:27:34.980779Z",
          "shell.execute_reply.started": "2022-02-19T12:22:23.904592Z"
        },
        "papermill": {
          "duration": 4626.311545,
          "end_time": "2022-02-20T04:27:34.981069",
          "exception": false,
          "start_time": "2022-02-20T03:10:28.669524",
          "status": "completed"
        },
        "tags": [],
        "id": "b02a89ec",
        "outputId": "0bb4bbb4-def1-40a3-d56c-9439216c83da"
      },
      "outputs": [
        {
          "name": "stdout",
          "output_type": "stream",
          "text": [
            "batch number --  0\n",
            "batch number --  200\n",
            "batch number --  400\n",
            "batch number --  600\n",
            "batch number --  800\n",
            "batch number --  1000\n",
            "batch number --  1200\n",
            "Epoch [0], train_loss: 0.8284, val_loss: 0.8256\n",
            "batch number --  0\n",
            "batch number --  200\n",
            "batch number --  400\n",
            "batch number --  600\n",
            "batch number --  800\n",
            "batch number --  1000\n",
            "batch number --  1200\n",
            "Epoch [1], train_loss: 0.8279, val_loss: 0.8256\n",
            "batch number --  0\n",
            "batch number --  200\n",
            "batch number --  400\n",
            "batch number --  600\n",
            "batch number --  800\n",
            "batch number --  1000\n",
            "batch number --  1200\n",
            "Epoch [2], train_loss: 0.8277, val_loss: 0.8254\n",
            "batch number --  0\n",
            "batch number --  200\n",
            "batch number --  400\n",
            "batch number --  600\n",
            "batch number --  800\n",
            "batch number --  1000\n",
            "batch number --  1200\n",
            "Epoch [3], train_loss: 0.8275, val_loss: 0.8252\n",
            "batch number --  0\n",
            "batch number --  200\n",
            "batch number --  400\n",
            "batch number --  600\n",
            "batch number --  800\n",
            "batch number --  1000\n",
            "batch number --  1200\n",
            "Epoch [4], train_loss: 0.8274, val_loss: 0.8250\n",
            "batch number --  0\n",
            "batch number --  200\n",
            "batch number --  400\n",
            "batch number --  600\n",
            "batch number --  800\n",
            "batch number --  1000\n",
            "batch number --  1200\n",
            "Epoch [5], train_loss: 0.8274, val_loss: 0.8250\n",
            "batch number --  0\n",
            "batch number --  200\n",
            "batch number --  400\n",
            "batch number --  600\n",
            "batch number --  800\n",
            "batch number --  1000\n",
            "batch number --  1200\n",
            "Epoch [6], train_loss: 0.8271, val_loss: 0.8248\n",
            "batch number --  0\n",
            "batch number --  200\n",
            "batch number --  400\n",
            "batch number --  600\n",
            "batch number --  800\n",
            "batch number --  1000\n",
            "batch number --  1200\n",
            "Epoch [7], train_loss: 0.8271, val_loss: 0.8246\n",
            "batch number --  0\n",
            "batch number --  200\n",
            "batch number --  400\n",
            "batch number --  600\n",
            "batch number --  800\n",
            "batch number --  1000\n",
            "batch number --  1200\n",
            "Epoch [8], train_loss: 0.8270, val_loss: 0.8247\n",
            "batch number --  0\n",
            "batch number --  200\n",
            "batch number --  400\n",
            "batch number --  600\n",
            "batch number --  800\n",
            "batch number --  1000\n",
            "batch number --  1200\n",
            "Epoch [9], train_loss: 0.8267, val_loss: 0.8246\n"
          ]
        }
      ],
      "source": [
        "history2 = fit(10, 5e-3, model, train_loader, val_loader, opt_func=torch.optim.Adam)"
      ]
    },
    {
      "cell_type": "code",
      "execution_count": null,
      "id": "65b8d793",
      "metadata": {
        "execution": {
          "iopub.execute_input": "2022-02-20T04:27:36.155438Z",
          "iopub.status.busy": "2022-02-20T04:27:36.154430Z",
          "iopub.status.idle": "2022-02-20T05:42:49.965626Z",
          "shell.execute_reply": "2022-02-20T05:42:49.966273Z",
          "shell.execute_reply.started": "2022-02-19T12:22:23.904592Z"
        },
        "papermill": {
          "duration": 4513.915228,
          "end_time": "2022-02-20T05:42:49.966489",
          "exception": false,
          "start_time": "2022-02-20T04:27:36.051261",
          "status": "completed"
        },
        "tags": [],
        "id": "65b8d793",
        "outputId": "14575ddb-9a80-4645-972e-d90b1765b16d"
      },
      "outputs": [
        {
          "name": "stdout",
          "output_type": "stream",
          "text": [
            "batch number --  0\n",
            "batch number --  200\n",
            "batch number --  400\n",
            "batch number --  600\n",
            "batch number --  800\n",
            "batch number --  1000\n",
            "batch number --  1200\n",
            "Epoch [0], train_loss: 0.8264, val_loss: 0.8239\n",
            "batch number --  0\n",
            "batch number --  200\n",
            "batch number --  400\n",
            "batch number --  600\n",
            "batch number --  800\n",
            "batch number --  1000\n",
            "batch number --  1200\n",
            "Epoch [1], train_loss: 0.8264, val_loss: 0.8238\n",
            "batch number --  0\n",
            "batch number --  200\n",
            "batch number --  400\n",
            "batch number --  600\n",
            "batch number --  800\n",
            "batch number --  1000\n",
            "batch number --  1200\n",
            "Epoch [2], train_loss: 0.8261, val_loss: 0.8238\n",
            "batch number --  0\n",
            "batch number --  200\n",
            "batch number --  400\n",
            "batch number --  600\n",
            "batch number --  800\n",
            "batch number --  1000\n",
            "batch number --  1200\n",
            "Epoch [3], train_loss: 0.8263, val_loss: 0.8238\n",
            "batch number --  0\n",
            "batch number --  200\n",
            "batch number --  400\n",
            "batch number --  600\n",
            "batch number --  800\n",
            "batch number --  1000\n",
            "batch number --  1200\n",
            "Epoch [4], train_loss: 0.8263, val_loss: 0.8238\n",
            "batch number --  0\n",
            "batch number --  200\n",
            "batch number --  400\n",
            "batch number --  600\n",
            "batch number --  800\n",
            "batch number --  1000\n",
            "batch number --  1200\n",
            "Epoch [5], train_loss: 0.8263, val_loss: 0.8238\n",
            "batch number --  0\n",
            "batch number --  200\n",
            "batch number --  400\n",
            "batch number --  600\n",
            "batch number --  800\n",
            "batch number --  1000\n",
            "batch number --  1200\n",
            "Epoch [6], train_loss: 0.8263, val_loss: 0.8238\n",
            "batch number --  0\n",
            "batch number --  200\n",
            "batch number --  400\n",
            "batch number --  600\n",
            "batch number --  800\n",
            "batch number --  1000\n",
            "batch number --  1200\n",
            "Epoch [7], train_loss: 0.8264, val_loss: 0.8238\n",
            "batch number --  0\n",
            "batch number --  200\n",
            "batch number --  400\n",
            "batch number --  600\n",
            "batch number --  800\n",
            "batch number --  1000\n",
            "batch number --  1200\n",
            "Epoch [8], train_loss: 0.8261, val_loss: 0.8238\n",
            "batch number --  0\n",
            "batch number --  200\n",
            "batch number --  400\n",
            "batch number --  600\n",
            "batch number --  800\n",
            "batch number --  1000\n",
            "batch number --  1200\n",
            "Epoch [9], train_loss: 0.8262, val_loss: 0.8238\n"
          ]
        }
      ],
      "source": [
        "history3 = fit(10, 5e-5, model, train_loader, val_loader, opt_func=torch.optim.Adam)"
      ]
    },
    {
      "cell_type": "code",
      "execution_count": null,
      "id": "8d1e7194",
      "metadata": {
        "execution": {
          "iopub.execute_input": "2022-02-20T05:42:51.116742Z",
          "iopub.status.busy": "2022-02-20T05:42:51.116116Z",
          "iopub.status.idle": "2022-02-20T05:42:51.121665Z",
          "shell.execute_reply": "2022-02-20T05:42:51.122124Z",
          "shell.execute_reply.started": "2022-02-19T12:22:39.249114Z"
        },
        "papermill": {
          "duration": 0.134645,
          "end_time": "2022-02-20T05:42:51.122262",
          "exception": false,
          "start_time": "2022-02-20T05:42:50.987617",
          "status": "completed"
        },
        "tags": [],
        "id": "8d1e7194",
        "outputId": "c2a9f452-8558-4881-8aac-6e62417e1f9c"
      },
      "outputs": [
        {
          "data": {
            "text/plain": [
              "{'val_loss': 0.8237826228141785, 'train_loss': 0.8261511921882629}"
            ]
          },
          "execution_count": 30,
          "metadata": {},
          "output_type": "execute_result"
        }
      ],
      "source": [
        "history3[-1]"
      ]
    },
    {
      "cell_type": "code",
      "execution_count": null,
      "id": "df483f10",
      "metadata": {
        "execution": {
          "iopub.execute_input": "2022-02-20T05:42:51.882922Z",
          "iopub.status.busy": "2022-02-20T05:42:51.882052Z",
          "iopub.status.idle": "2022-02-20T05:42:51.902290Z",
          "shell.execute_reply": "2022-02-20T05:42:51.901772Z",
          "shell.execute_reply.started": "2022-02-19T12:22:58.023167Z"
        },
        "papermill": {
          "duration": 0.154723,
          "end_time": "2022-02-20T05:42:51.902438",
          "exception": false,
          "start_time": "2022-02-20T05:42:51.747715",
          "status": "completed"
        },
        "tags": [],
        "id": "df483f10"
      },
      "outputs": [],
      "source": [
        "torch.save(model.state_dict(), 'my_trained_model.pth')"
      ]
    },
    {
      "cell_type": "markdown",
      "id": "3b7d6e43",
      "metadata": {
        "papermill": {
          "duration": 0.123517,
          "end_time": "2022-02-20T05:42:52.155471",
          "exception": false,
          "start_time": "2022-02-20T05:42:52.031954",
          "status": "completed"
        },
        "tags": [],
        "id": "3b7d6e43"
      },
      "source": [
        "# Делаем предсказания"
      ]
    },
    {
      "cell_type": "code",
      "execution_count": null,
      "id": "fb1c7dca",
      "metadata": {
        "execution": {
          "iopub.execute_input": "2022-02-20T05:42:52.927062Z",
          "iopub.status.busy": "2022-02-20T05:42:52.926087Z",
          "iopub.status.idle": "2022-02-20T05:42:52.928512Z",
          "shell.execute_reply": "2022-02-20T05:42:52.928991Z",
          "shell.execute_reply.started": "2022-02-19T12:23:04.705785Z"
        },
        "papermill": {
          "duration": 0.130169,
          "end_time": "2022-02-20T05:42:52.929155",
          "exception": false,
          "start_time": "2022-02-20T05:42:52.798986",
          "status": "completed"
        },
        "tags": [],
        "id": "fb1c7dca"
      },
      "outputs": [],
      "source": [
        "torch.cuda.empty_cache()"
      ]
    },
    {
      "cell_type": "code",
      "execution_count": null,
      "id": "2b14bff9",
      "metadata": {
        "execution": {
          "iopub.execute_input": "2022-02-20T05:42:54.672556Z",
          "iopub.status.busy": "2022-02-20T05:42:54.671718Z",
          "iopub.status.idle": "2022-02-20T05:42:54.675271Z",
          "shell.execute_reply": "2022-02-20T05:42:54.675867Z",
          "shell.execute_reply.started": "2022-02-19T12:23:09.630912Z"
        },
        "papermill": {
          "duration": 0.25996,
          "end_time": "2022-02-20T05:42:54.676093",
          "exception": false,
          "start_time": "2022-02-20T05:42:54.416133",
          "status": "completed"
        },
        "tags": [],
        "id": "2b14bff9",
        "outputId": "49467180-ca2e-45e5-9ae5-67a1638a3e98"
      },
      "outputs": [
        {
          "data": {
            "text/plain": [
              "3257"
            ]
          },
          "execution_count": 38,
          "metadata": {},
          "output_type": "execute_result"
        }
      ],
      "source": [
        "gc.collect()"
      ]
    },
    {
      "cell_type": "code",
      "execution_count": null,
      "id": "37449195",
      "metadata": {
        "execution": {
          "iopub.execute_input": "2022-02-20T05:42:55.465284Z",
          "iopub.status.busy": "2022-02-20T05:42:55.464298Z",
          "iopub.status.idle": "2022-02-20T05:42:55.466459Z",
          "shell.execute_reply": "2022-02-20T05:42:55.467018Z",
          "shell.execute_reply.started": "2022-02-19T12:23:11.550959Z"
        },
        "papermill": {
          "duration": 0.134798,
          "end_time": "2022-02-20T05:42:55.467193",
          "exception": false,
          "start_time": "2022-02-20T05:42:55.332395",
          "status": "completed"
        },
        "tags": [],
        "id": "37449195"
      },
      "outputs": [],
      "source": [
        "cols_order = ['investment_id' , 'time_id'] + features"
      ]
    },
    {
      "cell_type": "code",
      "execution_count": null,
      "id": "13e39a90",
      "metadata": {
        "execution": {
          "iopub.execute_input": "2022-02-20T05:42:55.726301Z",
          "iopub.status.busy": "2022-02-20T05:42:55.723622Z",
          "iopub.status.idle": "2022-02-20T05:42:55.729212Z",
          "shell.execute_reply": "2022-02-20T05:42:55.728681Z",
          "shell.execute_reply.started": "2022-02-19T12:29:44.820073Z"
        },
        "papermill": {
          "duration": 0.137011,
          "end_time": "2022-02-20T05:42:55.729331",
          "exception": false,
          "start_time": "2022-02-20T05:42:55.592320",
          "status": "completed"
        },
        "tags": [],
        "id": "13e39a90"
      },
      "outputs": [],
      "source": [
        "def predict_for_test_data(test_data):\n",
        "    test_ds = TensorDataset(torch.tensor(test_data.values, dtype=torch.float32))\n",
        "    submission_try = []\n",
        "    \n",
        "    for x in test_ds:\n",
        "        model.eval()\n",
        "        input_x = x[0].unsqueeze(0).cuda()\n",
        "        pred = model(input_x)\n",
        "        submission_try.append(pred)\n",
        "        print(\"Prediction:\", pred)\n",
        "        \n",
        "    submission_values = [float(i.detach()) for i in submission_try]\n",
        "    return submission_values"
      ]
    },
    {
      "cell_type": "code",
      "execution_count": null,
      "id": "f297bb95",
      "metadata": {
        "execution": {
          "iopub.execute_input": "2022-02-20T05:42:56.493971Z",
          "iopub.status.busy": "2022-02-20T05:42:56.492937Z",
          "iopub.status.idle": "2022-02-20T05:42:56.495801Z",
          "shell.execute_reply": "2022-02-20T05:42:56.496702Z",
          "shell.execute_reply.started": "2022-02-19T12:30:01.179193Z"
        },
        "papermill": {
          "duration": 0.231031,
          "end_time": "2022-02-20T05:42:56.497005",
          "exception": false,
          "start_time": "2022-02-20T05:42:56.265974",
          "status": "completed"
        },
        "tags": [],
        "id": "f297bb95"
      },
      "outputs": [],
      "source": [
        "predict_for_test_data(test_df)"
      ]
    }
  ],
  "metadata": {
    "kernelspec": {
      "display_name": "Python 3",
      "language": "python",
      "name": "python3"
    },
    "language_info": {
      "codemirror_mode": {
        "name": "ipython",
        "version": 3
      },
      "file_extension": ".py",
      "mimetype": "text/x-python",
      "name": "python",
      "nbconvert_exporter": "python",
      "pygments_lexer": "ipython3",
      "version": "3.7.12"
    },
    "papermill": {
      "default_parameters": {},
      "duration": 13818.463805,
      "end_time": "2022-02-20T05:42:59.326805",
      "environment_variables": {},
      "exception": null,
      "input_path": "__notebook__.ipynb",
      "output_path": "__notebook__.ipynb",
      "parameters": {},
      "start_time": "2022-02-20T01:52:40.863000",
      "version": "2.3.3"
    },
    "colab": {
      "name": "market_prediction.ipynb",
      "provenance": []
    }
  },
  "nbformat": 4,
  "nbformat_minor": 5
}